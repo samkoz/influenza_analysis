{
 "cells": [
  {
   "cell_type": "markdown",
   "metadata": {},
   "source": [
    "# Analysis of Influenza Vaccine Overadministration\n",
    "\n",
    "## Definitions / Assumptions\n",
    "* flu season: \n",
    "    * usually October through May.\n",
    "    * For this analysis, flu season starts in July and ends at the end of June, i.e. 07/year - 06/year\n",
    "    * This was done to be able to say whether or not individuals received too many vacs in one flu season\n",
    "    * e.g. June of 2016 is in fluseason 2015\n",
    "    * [CDC does year 2016-2017](https://www.cdc.gov/flu/professionals/)\n",
    "    \n",
    "    \n",
    "* inappropriate vs. appropriate vacs\n",
    "    * definition of appropriate: \n",
    "        * one sesaon when 2 vacs were administered <= 96m\n",
    "        * otherwise only 1 vac per season\n",
    "    * def of inappropriate: \n",
    "        * any occasion 2 vacs were administered in the same flu season to a child already having received 2 vacs in a single season in the past\n",
    "        * any occasion > 2 vacs were administered in a flu season\n",
    "     \n",
    "     \n",
    "* What age to use if kids received two vacs in a season and were age < 96 for first vac but age > 96 for second vac\n",
    "    * I took the max of the age in a given flu season; if the max of an age was > 96, then that flu season was not considered to have age < 96m and if more than one vaccine was received in that season, it was considered inapprorpiate\n",
    "\n",
    "## Questions to answer in analysis\n",
    "* num of vacs per year (2009-2016)\n",
    "* num of vacs given each month\n",
    "* counts of ages at which vaccines were given\n",
    "* count of inappropriate vacs\n",
    "* counts of those <= 96m who never received 2 vacs for one flu season, only had one season in which they received 2 vacs, received > 2 vacs in one season w/o other multi-vac seasons, and those who had multiple multi-vac seasons\n",
    "\n",
    "## Remaining work\n",
    "* counts of those > 96m who never received 2 vacs for one flu season, only had one season in which they received 2 vacs, received > 2 vacs in one season w/o other multi-vac seasons, and those who had multiple multi-vac seasons\n",
    "* num of unique clinics individuals who received inappropriate vacs went to\n",
    "\n",
    "## Issues to address\n",
    "* I didn't class vaccines given at age < 6m as inappropriate given I did not know the historical recommendations or if exceptions exist\n",
    "\n"
   ]
  },
  {
   "cell_type": "code",
   "execution_count": 1,
   "metadata": {
    "collapsed": true
   },
   "outputs": [],
   "source": [
    "from datetime import datetime, date\n",
    "import numpy as np\n",
    "import pandas as pd\n",
    "import matplotlib.pyplot as plt\n",
    "from collections import Counter\n",
    "%matplotlib inline"
   ]
  },
  {
   "cell_type": "code",
   "execution_count": 2,
   "metadata": {
    "collapsed": false
   },
   "outputs": [
    {
     "name": "stdout",
     "output_type": "stream",
     "text": [
      "Wall time: 19.8 s\n"
     ]
    }
   ],
   "source": [
    "%%time\n",
    "df = pd.read_csv(\"Flu_3.01.17.csv\")\n",
    "df.AGE_IN_MONTHS = df.AGE_IN_MONTHS.astype(int)"
   ]
  },
  {
   "cell_type": "code",
   "execution_count": 3,
   "metadata": {
    "collapsed": false
   },
   "outputs": [],
   "source": [
    "def date_convert(d):\n",
    "    vac_date = d[:2] + \" \" + d[2:5] + \" \" + d[5:9]\n",
    "    vac_date = datetime.strptime(vac_date, '%d %b %Y')\n",
    "    return vac_date"
   ]
  },
  {
   "cell_type": "code",
   "execution_count": 4,
   "metadata": {
    "collapsed": false
   },
   "outputs": [],
   "source": [
    "# Apply date convert function to VACCINATION_DATE\n",
    "updated_dates = df.VACCINATION_DATE.apply(lambda row: date_convert(row))"
   ]
  },
  {
   "cell_type": "code",
   "execution_count": 5,
   "metadata": {
    "collapsed": false
   },
   "outputs": [],
   "source": [
    "# convert VACCINATION_DATE column to more useable form\n",
    "df.VACCINATION_DATE = updated_dates"
   ]
  },
  {
   "cell_type": "code",
   "execution_count": 6,
   "metadata": {
    "collapsed": false
   },
   "outputs": [],
   "source": [
    "# drop unnecessary columns\n",
    "df = df[[\"ID\", \"VACCINATION_DATE\", \"ENTERED_BY_ORG\", \"AGE_IN_MONTHS\"]]"
   ]
  },
  {
   "cell_type": "markdown",
   "metadata": {},
   "source": [
    "### Below calculates and represents the number of vaccines administered each year. "
   ]
  },
  {
   "cell_type": "code",
   "execution_count": 7,
   "metadata": {
    "collapsed": false
   },
   "outputs": [
    {
     "data": {
      "text/html": [
       "<div>\n",
       "<table border=\"1\" class=\"dataframe\">\n",
       "  <thead>\n",
       "    <tr style=\"text-align: right;\">\n",
       "      <th></th>\n",
       "      <th>vacs_administered</th>\n",
       "    </tr>\n",
       "    <tr>\n",
       "      <th>VACCINATION_DATE</th>\n",
       "      <th></th>\n",
       "    </tr>\n",
       "  </thead>\n",
       "  <tbody>\n",
       "    <tr>\n",
       "      <th>2009</th>\n",
       "      <td>1389376.0</td>\n",
       "    </tr>\n",
       "    <tr>\n",
       "      <th>2010</th>\n",
       "      <td>1732338.0</td>\n",
       "    </tr>\n",
       "    <tr>\n",
       "      <th>2011</th>\n",
       "      <td>1832739.0</td>\n",
       "    </tr>\n",
       "    <tr>\n",
       "      <th>2012</th>\n",
       "      <td>1924775.0</td>\n",
       "    </tr>\n",
       "    <tr>\n",
       "      <th>2013</th>\n",
       "      <td>2161381.0</td>\n",
       "    </tr>\n",
       "    <tr>\n",
       "      <th>2014</th>\n",
       "      <td>2053113.0</td>\n",
       "    </tr>\n",
       "    <tr>\n",
       "      <th>2015</th>\n",
       "      <td>2063192.0</td>\n",
       "    </tr>\n",
       "    <tr>\n",
       "      <th>2016</th>\n",
       "      <td>182670.0</td>\n",
       "    </tr>\n",
       "    <tr>\n",
       "      <th>total</th>\n",
       "      <td>13339584.0</td>\n",
       "    </tr>\n",
       "  </tbody>\n",
       "</table>\n",
       "</div>"
      ],
      "text/plain": [
       "                  vacs_administered\n",
       "VACCINATION_DATE                   \n",
       "2009                      1389376.0\n",
       "2010                      1732338.0\n",
       "2011                      1832739.0\n",
       "2012                      1924775.0\n",
       "2013                      2161381.0\n",
       "2014                      2053113.0\n",
       "2015                      2063192.0\n",
       "2016                       182670.0\n",
       "total                    13339584.0"
      ]
     },
     "execution_count": 7,
     "metadata": {},
     "output_type": "execute_result"
    }
   ],
   "source": [
    "# Group by Year, drop unnecessary columns and add a vacs_administered column\n",
    "df_annual = df.groupby(df['VACCINATION_DATE'].map(lambda x: x.year)).count()\n",
    "df_annual['vacs_administered'] = df_annual.ID\n",
    "df_annual.drop(df_annual.columns[:-1], 1, inplace=True)\n",
    "df_annual.loc['total', 'vacs_administered'] = df_annual.vacs_administered.sum()\n",
    "\n",
    "df_annual"
   ]
  },
  {
   "cell_type": "code",
   "execution_count": 8,
   "metadata": {
    "collapsed": false
   },
   "outputs": [
    {
     "data": {
      "image/png": "[encoded data removed]",
      "text/plain": [
       "<matplotlib.figure.Figure at 0x21051675f28>"
      ]
     },
     "metadata": {},
     "output_type": "display_data"
    }
   ],
   "source": [
    "plt.bar(df_annual.index[:8], df_annual.vacs_administered[:8])\n",
    "plt.show()"
   ]
  },
  {
   "cell_type": "markdown",
   "metadata": {},
   "source": [
    "### Number of flu shots given each month; we can use this to represent how many flu shots were given outside of flu season (i.e. June - either August or September)"
   ]
  },
  {
   "cell_type": "code",
   "execution_count": 9,
   "metadata": {
    "collapsed": false,
    "scrolled": true
   },
   "outputs": [],
   "source": [
    "# groupby month, rename columns, drop ID column and add a total\n",
    "df_by_month = df.groupby(by=df['VACCINATION_DATE'].map(\n",
    "    lambda x: x.month)).count().drop(df.columns[1:], 1)\n",
    "df_by_month['Vaccines_Administered'] = df_by_month.ID\n",
    "df_by_month.drop('ID', 1, inplace=True)\n",
    "df_by_month.loc['total'] = df_by_month.Vaccines_Administered.sum()"
   ]
  },
  {
   "cell_type": "code",
   "execution_count": 10,
   "metadata": {
    "collapsed": false
   },
   "outputs": [
    {
     "data": {
      "text/html": [
       "<div>\n",
       "<table border=\"1\" class=\"dataframe\">\n",
       "  <thead>\n",
       "    <tr style=\"text-align: right;\">\n",
       "      <th></th>\n",
       "      <th>Vaccines_Administered</th>\n",
       "    </tr>\n",
       "    <tr>\n",
       "      <th>VACCINATION_DATE</th>\n",
       "      <th></th>\n",
       "    </tr>\n",
       "  </thead>\n",
       "  <tbody>\n",
       "    <tr>\n",
       "      <th>1</th>\n",
       "      <td>710854</td>\n",
       "    </tr>\n",
       "    <tr>\n",
       "      <th>2</th>\n",
       "      <td>254181</td>\n",
       "    </tr>\n",
       "    <tr>\n",
       "      <th>3</th>\n",
       "      <td>132395</td>\n",
       "    </tr>\n",
       "    <tr>\n",
       "      <th>4</th>\n",
       "      <td>41213</td>\n",
       "    </tr>\n",
       "    <tr>\n",
       "      <th>5</th>\n",
       "      <td>16323</td>\n",
       "    </tr>\n",
       "    <tr>\n",
       "      <th>6</th>\n",
       "      <td>7150</td>\n",
       "    </tr>\n",
       "    <tr>\n",
       "      <th>7</th>\n",
       "      <td>2912</td>\n",
       "    </tr>\n",
       "    <tr>\n",
       "      <th>8</th>\n",
       "      <td>237774</td>\n",
       "    </tr>\n",
       "    <tr>\n",
       "      <th>9</th>\n",
       "      <td>2939734</td>\n",
       "    </tr>\n",
       "    <tr>\n",
       "      <th>10</th>\n",
       "      <td>5608839</td>\n",
       "    </tr>\n",
       "    <tr>\n",
       "      <th>11</th>\n",
       "      <td>2285506</td>\n",
       "    </tr>\n",
       "    <tr>\n",
       "      <th>12</th>\n",
       "      <td>1102703</td>\n",
       "    </tr>\n",
       "    <tr>\n",
       "      <th>total</th>\n",
       "      <td>13339584</td>\n",
       "    </tr>\n",
       "  </tbody>\n",
       "</table>\n",
       "</div>"
      ],
      "text/plain": [
       "                  Vaccines_Administered\n",
       "VACCINATION_DATE                       \n",
       "1                                710854\n",
       "2                                254181\n",
       "3                                132395\n",
       "4                                 41213\n",
       "5                                 16323\n",
       "6                                  7150\n",
       "7                                  2912\n",
       "8                                237774\n",
       "9                               2939734\n",
       "10                              5608839\n",
       "11                              2285506\n",
       "12                              1102703\n",
       "total                          13339584"
      ]
     },
     "execution_count": 10,
     "metadata": {},
     "output_type": "execute_result"
    }
   ],
   "source": [
    "df_by_month"
   ]
  },
  {
   "cell_type": "code",
   "execution_count": 11,
   "metadata": {
    "collapsed": false
   },
   "outputs": [
    {
     "data": {
      "image/png": "[encoded data removed]",
      "text/plain": [
       "<matplotlib.figure.Figure at 0x210370d63c8>"
      ]
     },
     "metadata": {},
     "output_type": "display_data"
    }
   ],
   "source": [
    "plt.bar(df.index[:12]+1, df_by_month.Vaccines_Administered[:12])\n",
    "plt.show()"
   ]
  },
  {
   "cell_type": "markdown",
   "metadata": {},
   "source": [
    "### Number of Vaccines Administered at Each Age (in months)\n",
    "* may be interesting to comment on number of vacs administered to kids < 6 months"
   ]
  },
  {
   "cell_type": "code",
   "execution_count": 12,
   "metadata": {
    "collapsed": false
   },
   "outputs": [],
   "source": [
    "df_months = df.groupby('AGE_IN_MONTHS').count()\n",
    "df_months.drop(df_months.columns[1:], 1, inplace=True)"
   ]
  },
  {
   "cell_type": "code",
   "execution_count": 38,
   "metadata": {
    "collapsed": false,
    "scrolled": true
   },
   "outputs": [
    {
     "data": {
      "text/html": [
       "<div>\n",
       "<table border=\"1\" class=\"dataframe\">\n",
       "  <thead>\n",
       "    <tr style=\"text-align: right;\">\n",
       "      <th></th>\n",
       "      <th>ID</th>\n",
       "    </tr>\n",
       "    <tr>\n",
       "      <th>AGE_IN_MONTHS</th>\n",
       "      <th></th>\n",
       "    </tr>\n",
       "  </thead>\n",
       "  <tbody>\n",
       "    <tr>\n",
       "      <th>0</th>\n",
       "      <td>593</td>\n",
       "    </tr>\n",
       "    <tr>\n",
       "      <th>1</th>\n",
       "      <td>226</td>\n",
       "    </tr>\n",
       "    <tr>\n",
       "      <th>2</th>\n",
       "      <td>518</td>\n",
       "    </tr>\n",
       "    <tr>\n",
       "      <th>3</th>\n",
       "      <td>217</td>\n",
       "    </tr>\n",
       "    <tr>\n",
       "      <th>4</th>\n",
       "      <td>553</td>\n",
       "    </tr>\n",
       "    <tr>\n",
       "      <th>5</th>\n",
       "      <td>6109</td>\n",
       "    </tr>\n",
       "    <tr>\n",
       "      <th>6</th>\n",
       "      <td>151238</td>\n",
       "    </tr>\n",
       "    <tr>\n",
       "      <th>7</th>\n",
       "      <td>90661</td>\n",
       "    </tr>\n",
       "    <tr>\n",
       "      <th>8</th>\n",
       "      <td>34569</td>\n",
       "    </tr>\n",
       "    <tr>\n",
       "      <th>9</th>\n",
       "      <td>100427</td>\n",
       "    </tr>\n",
       "    <tr>\n",
       "      <th>10</th>\n",
       "      <td>45850</td>\n",
       "    </tr>\n",
       "    <tr>\n",
       "      <th>11</th>\n",
       "      <td>18348</td>\n",
       "    </tr>\n",
       "    <tr>\n",
       "      <th>12</th>\n",
       "      <td>96039</td>\n",
       "    </tr>\n",
       "    <tr>\n",
       "      <th>13</th>\n",
       "      <td>41725</td>\n",
       "    </tr>\n",
       "    <tr>\n",
       "      <th>14</th>\n",
       "      <td>23202</td>\n",
       "    </tr>\n",
       "    <tr>\n",
       "      <th>15</th>\n",
       "      <td>72672</td>\n",
       "    </tr>\n",
       "    <tr>\n",
       "      <th>16</th>\n",
       "      <td>30966</td>\n",
       "    </tr>\n",
       "    <tr>\n",
       "      <th>17</th>\n",
       "      <td>20786</td>\n",
       "    </tr>\n",
       "    <tr>\n",
       "      <th>18</th>\n",
       "      <td>60362</td>\n",
       "    </tr>\n",
       "    <tr>\n",
       "      <th>19</th>\n",
       "      <td>25906</td>\n",
       "    </tr>\n",
       "  </tbody>\n",
       "</table>\n",
       "</div>"
      ],
      "text/plain": [
       "                   ID\n",
       "AGE_IN_MONTHS        \n",
       "0                 593\n",
       "1                 226\n",
       "2                 518\n",
       "3                 217\n",
       "4                 553\n",
       "5                6109\n",
       "6              151238\n",
       "7               90661\n",
       "8               34569\n",
       "9              100427\n",
       "10              45850\n",
       "11              18348\n",
       "12              96039\n",
       "13              41725\n",
       "14              23202\n",
       "15              72672\n",
       "16              30966\n",
       "17              20786\n",
       "18              60362\n",
       "19              25906"
      ]
     },
     "execution_count": 38,
     "metadata": {},
     "output_type": "execute_result"
    }
   ],
   "source": [
    "df_months[:20]"
   ]
  },
  {
   "cell_type": "code",
   "execution_count": 14,
   "metadata": {
    "collapsed": false
   },
   "outputs": [
    {
     "data": {
      "image/png": "[encoded data removed]",
      "text/plain": [
       "<matplotlib.figure.Figure at 0x2102a51d668>"
      ]
     },
     "metadata": {},
     "output_type": "display_data"
    }
   ],
   "source": [
    "plt.figure(figsize=(7,5))\n",
    "plt.scatter(df_months.index, df_months.ID)\n",
    "plt.title('# OF FLU SHOTS GIVEN AT EACH AGE')\n",
    "plt.xlabel(\"AGE IN MONTHS\")\n",
    "plt.ylabel(\"# OF FLU SHOTS\")\n",
    "plt.show()"
   ]
  },
  {
   "cell_type": "markdown",
   "metadata": {},
   "source": [
    "### Definie Flu Season:\n",
    "* each flu season starts in July and ends at the end of June, i.e. 07/year - 06/year\n",
    "* e.g. June of 2016 is in fluseason 2015\n",
    "* [CDC does year 2016-2017](https://www.cdc.gov/flu/professionals/)"
   ]
  },
  {
   "cell_type": "code",
   "execution_count": 15,
   "metadata": {
    "collapsed": false
   },
   "outputs": [],
   "source": [
    "def define_flu_season(row):\n",
    "    month = row.month\n",
    "    year = row.year\n",
    "    if month in [7, 8, 9, 10, 11, 12]:\n",
    "        return year\n",
    "    elif month in [1, 2, 3, 4, 5, 6]:\n",
    "        return year-1"
   ]
  },
  {
   "cell_type": "code",
   "execution_count": 16,
   "metadata": {
    "collapsed": false
   },
   "outputs": [],
   "source": [
    "df = df.assign(flu_season = df['VACCINATION_DATE'].map(lambda row: define_flu_season(row)))\n",
    "df = df.assign(VACCINE_COUNT = 1)\n",
    "df_vaccine_counts = df"
   ]
  },
  {
   "cell_type": "markdown",
   "metadata": {},
   "source": [
    "### Split the data into two groups: those > 96m and those <= 96 months and merge into one dataframe"
   ]
  },
  {
   "cell_type": "code",
   "execution_count": 60,
   "metadata": {
    "collapsed": false,
    "scrolled": true
   },
   "outputs": [],
   "source": [
    "# took the max of the months. Kids who turn > 96 m during flu season do not need another shot, \n",
    "# so I took the max to be able to filter out seasons where the kid was < 96m old\n",
    "df_vc_grouped = df_vaccine_counts.groupby(['ID', 'flu_season']).agg({\"AGE_IN_MONTHS\" : max, \"VACCINE_COUNT\" : np.sum})\n",
    "\n",
    "# filter by age and count the number of number of seasons where x vacs were given\n",
    "above_eight_df = df_vc_grouped[df_vc_grouped.AGE_IN_MONTHS > 96]\n",
    "above_eight = above_eight_df.VACCINE_COUNT.value_counts().to_frame().sort_index()\n",
    "below_eight_df = df_vc_grouped[df_vc_grouped.AGE_IN_MONTHS <= 96]\n",
    "below_eight = below_eight_df.VACCINE_COUNT.value_counts().to_frame().sort_index()\n",
    "\n",
    "# rename columns\n",
    "below_eight['num_seasons (<= 96m)'] = below_eight.VACCINE_COUNT\n",
    "below_eight.drop('VACCINE_COUNT', 1, inplace=True)\n",
    "above_eight['num_seasons (> 96m)'] = above_eight.VACCINE_COUNT\n",
    "above_eight.drop('VACCINE_COUNT', 1, inplace=True)\n",
    "\n",
    "# merge data into one df\n",
    "vaccines_received_per_season = pd.merge(above_eight, below_eight, how=\"outer\", right_index=True, left_index=True)\n",
    "vaccines_received_per_season.fillna(0, inplace=True)\n",
    "\n",
    "# calucluate totals\n",
    "vaccines_received_per_season['total_vacs'] = (vaccines_received_per_season['num_seasons (> 96m)']\n",
    "                                              + vaccines_received_per_season['num_seasons (<= 96m)']) * vaccines_received_per_season.index\n",
    "\n",
    "# rename index\n",
    "vaccines_received_per_season.index.rename(\"Flu_shots_per_season\", inplace=True)"
   ]
  },
  {
   "cell_type": "code",
   "execution_count": 18,
   "metadata": {
    "collapsed": false
   },
   "outputs": [
    {
     "data": {
      "text/html": [
       "<div>\n",
       "<table border=\"1\" class=\"dataframe\">\n",
       "  <thead>\n",
       "    <tr style=\"text-align: right;\">\n",
       "      <th></th>\n",
       "      <th>num_seasons (&gt; 96m)</th>\n",
       "      <th>num_seasons (&lt;= 96m)</th>\n",
       "      <th>total_vacs</th>\n",
       "    </tr>\n",
       "    <tr>\n",
       "      <th>Flu_shots_per_season</th>\n",
       "      <th></th>\n",
       "      <th></th>\n",
       "      <th></th>\n",
       "    </tr>\n",
       "  </thead>\n",
       "  <tbody>\n",
       "    <tr>\n",
       "      <th>1</th>\n",
       "      <td>10380923.0</td>\n",
       "      <td>1679112.0</td>\n",
       "      <td>12060035.0</td>\n",
       "    </tr>\n",
       "    <tr>\n",
       "      <th>2</th>\n",
       "      <td>301731.0</td>\n",
       "      <td>324236.0</td>\n",
       "      <td>1251934.0</td>\n",
       "    </tr>\n",
       "    <tr>\n",
       "      <th>3</th>\n",
       "      <td>4662.0</td>\n",
       "      <td>4045.0</td>\n",
       "      <td>26121.0</td>\n",
       "    </tr>\n",
       "    <tr>\n",
       "      <th>4</th>\n",
       "      <td>114.0</td>\n",
       "      <td>221.0</td>\n",
       "      <td>1340.0</td>\n",
       "    </tr>\n",
       "    <tr>\n",
       "      <th>5</th>\n",
       "      <td>6.0</td>\n",
       "      <td>12.0</td>\n",
       "      <td>90.0</td>\n",
       "    </tr>\n",
       "    <tr>\n",
       "      <th>6</th>\n",
       "      <td>3.0</td>\n",
       "      <td>2.0</td>\n",
       "      <td>30.0</td>\n",
       "    </tr>\n",
       "    <tr>\n",
       "      <th>7</th>\n",
       "      <td>0.0</td>\n",
       "      <td>1.0</td>\n",
       "      <td>7.0</td>\n",
       "    </tr>\n",
       "    <tr>\n",
       "      <th>8</th>\n",
       "      <td>1.0</td>\n",
       "      <td>0.0</td>\n",
       "      <td>8.0</td>\n",
       "    </tr>\n",
       "    <tr>\n",
       "      <th>9</th>\n",
       "      <td>0.0</td>\n",
       "      <td>1.0</td>\n",
       "      <td>9.0</td>\n",
       "    </tr>\n",
       "    <tr>\n",
       "      <th>10</th>\n",
       "      <td>1.0</td>\n",
       "      <td>0.0</td>\n",
       "      <td>10.0</td>\n",
       "    </tr>\n",
       "  </tbody>\n",
       "</table>\n",
       "</div>"
      ],
      "text/plain": [
       "                      num_seasons (> 96m)  num_seasons (<= 96m)  total_vacs\n",
       "Flu_shots_per_season                                                       \n",
       "1                              10380923.0             1679112.0  12060035.0\n",
       "2                                301731.0              324236.0   1251934.0\n",
       "3                                  4662.0                4045.0     26121.0\n",
       "4                                   114.0                 221.0      1340.0\n",
       "5                                     6.0                  12.0        90.0\n",
       "6                                     3.0                   2.0        30.0\n",
       "7                                     0.0                   1.0         7.0\n",
       "8                                     1.0                   0.0         8.0\n",
       "9                                     0.0                   1.0         9.0\n",
       "10                                    1.0                   0.0        10.0"
      ]
     },
     "execution_count": 18,
     "metadata": {},
     "output_type": "execute_result"
    }
   ],
   "source": [
    "vaccines_received_per_season"
   ]
  },
  {
   "cell_type": "markdown",
   "metadata": {},
   "source": [
    "Summing on the total_vacs column gives 13339584, which is the same length as the original dataset."
   ]
  },
  {
   "cell_type": "markdown",
   "metadata": {},
   "source": [
    "### Count the number of inappropriate vacs administered to kids < 96m\n",
    "* definition of appropriate: \n",
    "    * one sesaon when 2 vacs were administered between 6m and 96m\n",
    "    * otherwise only 1 vac per season\n",
    "* def of inappropriate: \n",
    "    * any occasion 2 vacs were administered in the same flu season with the child already having received 2 vacs in a single season in the past\n",
    "    * any occasion > 2 vacs were administered in a flu season"
   ]
  },
  {
   "cell_type": "code",
   "execution_count": 19,
   "metadata": {
    "collapsed": true
   },
   "outputs": [],
   "source": [
    "# reset the index from the grouped df to execute loop below\n",
    "below_eight_df.reset_index(inplace=True)"
   ]
  },
  {
   "cell_type": "code",
   "execution_count": 20,
   "metadata": {
    "collapsed": false,
    "scrolled": true
   },
   "outputs": [],
   "source": [
    "result_dict = {}\n",
    "only_one = []\n",
    "correct = []\n",
    "inappropriate_vacs_one_mult = []\n",
    "inappropriate_vacs_mult_mult = []\n",
    "\n",
    "for ID, vaccinations in below_eight_df.groupby('ID'):\n",
    "    \n",
    "    max_count = vaccinations.VACCINE_COUNT.max()\n",
    "    vacs_counts_per_season = vaccinations.VACCINE_COUNT.value_counts()\n",
    "    n_mult_vac_seasons = vacs_counts_per_season[vacs_counts_per_season.index > 1].sum()\n",
    "    \n",
    "    # never received 2 vacs\n",
    "    if max_count < 2:\n",
    "        only_one.append(ID)\n",
    "        continue\n",
    "        \n",
    "    # 2 vacs received in only one season\n",
    "    if max_count == 2 and n_mult_vac_seasons == 1:\n",
    "        correct.append(ID)\n",
    "        continue\n",
    "\n",
    "    # more than 2 vacs in only one season\n",
    "    if max_count > 2 and n_mult_vac_seasons == 1:\n",
    "        inappropriate_vac_count = max_count - 2\n",
    "        inappropriate_vacs_one_mult.append((ID, inappropriate_vac_count, n_mult_vac_seasons))\n",
    "        continue\n",
    "    \n",
    "    # >= 2 vacs in more than one season\n",
    "    if max_count >= 2 and n_mult_vac_seasons > 1:\n",
    "        # get all rows with vacs > 2 and sum them to get vac total; subtract to to get the count of excessive vacs\n",
    "        seasons_with_mult_vacs_counts = vaccinations[vaccinations.VACCINE_COUNT > 1][\"VACCINE_COUNT\"]\n",
    "        inappropriate_vac_count = seasons_with_mult_vacs_counts.sum() - 2\n",
    "        return_vals = list(seasons_with_mult_vacs_counts.values)\n",
    "        \n",
    "        # remove one instance when a child received 2 vacs, as one instance is appropriate\n",
    "        try:\n",
    "            return_vals.remove(2)\n",
    "        except:\n",
    "            pass\n",
    "        \n",
    "        inappropriate_vacs_mult_mult.append((ID, inappropriate_vac_count, return_vals))\n",
    "        continue\n",
    "        \n",
    "result_dict[\"only_one\"] = only_one\n",
    "result_dict[\"correct\"] = correct\n",
    "result_dict[\"inappropriate_vacs_one_multi_vac_seasons\"] = inappropriate_vacs_one_mult\n",
    "result_dict[\"inappropriate_vacs_mult_multi_vac_seasons\"] = inappropriate_vacs_mult_mult"
   ]
  },
  {
   "cell_type": "code",
   "execution_count": 21,
   "metadata": {
    "collapsed": false
   },
   "outputs": [],
   "source": [
    "inappropriate_vacs = result_dict[\"inappropriate_vacs_one_multi_vac_seasons\"] + result_dict[\"inappropriate_vacs_mult_multi_vac_seasons\"]"
   ]
  },
  {
   "cell_type": "markdown",
   "metadata": {},
   "source": [
    "### Total number people of those w/ age <= 96m:\n",
    "* note this is those who were <= 96m at the time they received their last vaccine w/in a given flu season"
   ]
  },
  {
   "cell_type": "code",
   "execution_count": 22,
   "metadata": {
    "collapsed": false
   },
   "outputs": [
    {
     "data": {
      "text/plain": [
       "796128"
      ]
     },
     "execution_count": 22,
     "metadata": {},
     "output_type": "execute_result"
    }
   ],
   "source": [
    "total_below_eight = 0\n",
    "for k in result_dict.keys():\n",
    "    total_below_eight += len(result_dict[k])\n",
    "\n",
    "# passes assertion test\n",
    "assert total_below_eight == below_eight_df.ID.nunique()\n",
    "\n",
    "total_below_eight"
   ]
  },
  {
   "cell_type": "markdown",
   "metadata": {},
   "source": [
    "### Total number of people  w/ age > 96m:\n",
    "* note this is those who were > 96m at the time they received their last vaccine within a given flu season (if they received multiple)"
   ]
  },
  {
   "cell_type": "code",
   "execution_count": 23,
   "metadata": {
    "collapsed": false,
    "scrolled": true
   },
   "outputs": [],
   "source": [
    "above_eight_df = df_vc_grouped[df_vc_grouped.AGE_IN_MONTHS > 96].reset_index()"
   ]
  },
  {
   "cell_type": "code",
   "execution_count": 24,
   "metadata": {
    "collapsed": false
   },
   "outputs": [
    {
     "data": {
      "text/plain": [
       "3519982"
      ]
     },
     "execution_count": 24,
     "metadata": {},
     "output_type": "execute_result"
    }
   ],
   "source": [
    "total_above_eight = above_eight_df.ID.nunique()\n",
    "total_above_eight"
   ]
  },
  {
   "cell_type": "markdown",
   "metadata": {},
   "source": [
    "### Total number of unique ID's in the dataset:\n",
    "* note this will not equal total_above_eight + total_below_eight as a given ID can be in both categories as they age"
   ]
  },
  {
   "cell_type": "code",
   "execution_count": 25,
   "metadata": {
    "collapsed": false
   },
   "outputs": [
    {
     "data": {
      "text/plain": [
       "4137453"
      ]
     },
     "execution_count": 25,
     "metadata": {},
     "output_type": "execute_result"
    }
   ],
   "source": [
    "df.ID.nunique()"
   ]
  },
  {
   "cell_type": "markdown",
   "metadata": {},
   "source": [
    "Note: total number of those > 96 and "
   ]
  },
  {
   "cell_type": "markdown",
   "metadata": {},
   "source": [
    "### Number of those age < 96m who never had a season in which they received two vaccines:"
   ]
  },
  {
   "cell_type": "code",
   "execution_count": 26,
   "metadata": {
    "collapsed": false
   },
   "outputs": [],
   "source": [
    "only_one_len = len(result_dict[\"only_one\"])"
   ]
  },
  {
   "cell_type": "markdown",
   "metadata": {},
   "source": [
    "### Number of those age < 96m who received two vaccines in only one flu season (i.e. appropriate vaccination):"
   ]
  },
  {
   "cell_type": "code",
   "execution_count": 27,
   "metadata": {
    "collapsed": false
   },
   "outputs": [
    {
     "data": {
      "text/plain": [
       "308607"
      ]
     },
     "execution_count": 27,
     "metadata": {},
     "output_type": "execute_result"
    }
   ],
   "source": [
    "len(result_dict[\"correct\"])"
   ]
  },
  {
   "cell_type": "markdown",
   "metadata": {},
   "source": [
    "### Number of those age < 96m who had only 1 season in which they received > 1 vac, yet received > 2 vacs in that season:"
   ]
  },
  {
   "cell_type": "code",
   "execution_count": 28,
   "metadata": {
    "collapsed": false
   },
   "outputs": [
    {
     "data": {
      "text/plain": [
       "3915"
      ]
     },
     "execution_count": 28,
     "metadata": {},
     "output_type": "execute_result"
    }
   ],
   "source": [
    "len(result_dict[\"inappropriate_vacs_one_multi_vac_seasons\"])"
   ]
  },
  {
   "cell_type": "markdown",
   "metadata": {},
   "source": [
    "### Number of those age < 96m who had multiple seasons in which they received >= 2 vacs:"
   ]
  },
  {
   "cell_type": "code",
   "execution_count": 29,
   "metadata": {
    "collapsed": false
   },
   "outputs": [
    {
     "data": {
      "text/plain": [
       "7878"
      ]
     },
     "execution_count": 29,
     "metadata": {},
     "output_type": "execute_result"
    }
   ],
   "source": [
    "len(result_dict[\"inappropriate_vacs_mult_multi_vac_seasons\"])"
   ]
  },
  {
   "cell_type": "markdown",
   "metadata": {},
   "source": [
    "### Number of inappropriate vacs in those <= 96m:"
   ]
  },
  {
   "cell_type": "code",
   "execution_count": 30,
   "metadata": {
    "collapsed": false
   },
   "outputs": [],
   "source": [
    "# create a Counter object that counts the number of instances of having x excessive vacs\n",
    "count = Counter()\n",
    "for num in result_dict[\"inappropriate_vacs_one_multi_vac_seasons\"]:\n",
    "    num = num[1]\n",
    "    count[num]+=1\n",
    "for num in result_dict[\"inappropriate_vacs_mult_multi_vac_seasons\"]:\n",
    "    for n in num[2]: \n",
    "        count[n]+=1"
   ]
  },
  {
   "cell_type": "code",
   "execution_count": 31,
   "metadata": {
    "collapsed": false
   },
   "outputs": [
    {
     "data": {
      "text/plain": [
       "Counter({1: 3709, 2: 7949, 3: 348, 4: 30, 6: 1, 7: 2})"
      ]
     },
     "execution_count": 31,
     "metadata": {},
     "output_type": "execute_result"
    }
   ],
   "source": [
    "count"
   ]
  },
  {
   "cell_type": "code",
   "execution_count": 32,
   "metadata": {
    "collapsed": false,
    "scrolled": true
   },
   "outputs": [
    {
     "data": {
      "text/plain": [
       "20791"
      ]
     },
     "execution_count": 32,
     "metadata": {},
     "output_type": "execute_result"
    }
   ],
   "source": [
    "num_inapp_vacs = 0\n",
    "for k in count.keys():\n",
    "    num_inapp_vacs += count[k] * k\n",
    "\n",
    "num_inapp_vacs"
   ]
  },
  {
   "cell_type": "markdown",
   "metadata": {},
   "source": [
    "### Total Number of Vaccines given to kids <= 96m:"
   ]
  },
  {
   "cell_type": "code",
   "execution_count": 33,
   "metadata": {
    "collapsed": false
   },
   "outputs": [
    {
     "data": {
      "text/plain": [
       "2340691"
      ]
     },
     "execution_count": 33,
     "metadata": {},
     "output_type": "execute_result"
    }
   ],
   "source": [
    "# these will not be equal if a kid received two \n",
    "# vaccines in the same season and was 95 months for the first and 97 \n",
    "# months for the second, they will be classed in those above 8\n",
    "\n",
    "# This raises an AssertionError\n",
    "# assert df[df.AGE_IN_MONTHS <= 96].shape[0] == below_eight_df.VACCINE_COUNT.sum()\n",
    "\n",
    "total_vacs = below_eight_df.VACCINE_COUNT.sum()\n",
    "total_vacs"
   ]
  },
  {
   "cell_type": "markdown",
   "metadata": {},
   "source": [
    "### Percentage of kids <= 96m who received an excessive number of vaccines:\n",
    "* .888 % of vacs given to kids <= 96m were inappropriate"
   ]
  },
  {
   "cell_type": "code",
   "execution_count": 34,
   "metadata": {
    "collapsed": false
   },
   "outputs": [
    {
     "data": {
      "text/plain": [
       "0.888"
      ]
     },
     "execution_count": 34,
     "metadata": {},
     "output_type": "execute_result"
    }
   ],
   "source": [
    "float(\"{:.3f}\".format(num_inapp_vacs / total_vacs * 100))"
   ]
  },
  {
   "cell_type": "markdown",
   "metadata": {},
   "source": [
    "### Percentage of those > 96m who received an excessive number of vaccines\n"
   ]
  },
  {
   "cell_type": "markdown",
   "metadata": {},
   "source": []
  },
  {
   "cell_type": "code",
   "execution_count": 35,
   "metadata": {
    "collapsed": false
   },
   "outputs": [],
   "source": [
    "# create df for those receiving excessive vacs with age > 96m\n",
    "inapp_seasons_older = df_vc_grouped[(df_vc_grouped.AGE_IN_MONTHS > 96) & (df_vc_grouped.VACCINE_COUNT >= 2)]\n",
    "inapp_seasons_older = inapp_seasons_older.assign(num_seasons_old=(inapp_seasons_older.VACCINE_COUNT - 1))\n",
    "old_vac_counts = inapp_seasons_older.num_seasons_old.value_counts().to_frame().sort_index()\n",
    "\n",
    "# create df for those receiving excessive vacs w/ age <= 96m\n",
    "younger_inapp_vacs = pd.DataFrame(data=list(count.values()), index=list(count.keys()), columns=[\"num_seasons_young\"])\n",
    "young_vac_counts = younger_inapp_vacs.sort_index()\n",
    "\n",
    "# merge, fill empty values\n",
    "inappropriate_vacs = pd.merge(old_vac_counts, young_vac_counts, how=\"outer\", right_index=True, left_index=True).fillna(0)\n",
    "\n",
    "# calculate total number of vacs given for each subtype and overall\n",
    "inappropriate_vacs['total_vacs_old'] = (inappropriate_vacs.num_seasons_old * inappropriate_vacs.index)\n",
    "inappropriate_vacs['total_vacs_young'] = inappropriate_vacs.num_seasons_young * inappropriate_vacs.index\n",
    "inappropriate_vacs['total'] = inappropriate_vacs.total_vacs_old + inappropriate_vacs.total_vacs_young\n",
    "\n",
    "for col in inappropriate_vacs.columns[2:]:\n",
    "    inappropriate_vacs.loc[\"aggregate_totals\", col] = inappropriate_vacs[col].sum()\n",
    "inappropriate_vacs.fillna(\"n/a\", inplace=True)\n",
    "\n",
    "inappropriate_vacs['total_percent'] = inappropriate_vacs.total / inappropriate_vacs.loc['aggregate_totals', 'total'] * 100\n",
    "\n",
    "# rename df\n",
    "inappropriate_vacs.index.rename(\"# of excessive vacs\", inplace=True)"
   ]
  },
  {
   "cell_type": "code",
   "execution_count": 36,
   "metadata": {
    "collapsed": false,
    "scrolled": true
   },
   "outputs": [
    {
     "data": {
      "text/html": [
       "<div>\n",
       "<table border=\"1\" class=\"dataframe\">\n",
       "  <thead>\n",
       "    <tr style=\"text-align: right;\">\n",
       "      <th></th>\n",
       "      <th>num_seasons_old</th>\n",
       "      <th>num_seasons_young</th>\n",
       "      <th>total_vacs_old</th>\n",
       "      <th>total_vacs_young</th>\n",
       "      <th>total</th>\n",
       "      <th>total_percent</th>\n",
       "    </tr>\n",
       "    <tr>\n",
       "      <th># of excessive vacs</th>\n",
       "      <th></th>\n",
       "      <th></th>\n",
       "      <th></th>\n",
       "      <th></th>\n",
       "      <th></th>\n",
       "      <th></th>\n",
       "    </tr>\n",
       "  </thead>\n",
       "  <tbody>\n",
       "    <tr>\n",
       "      <th>1</th>\n",
       "      <td>301731</td>\n",
       "      <td>3709</td>\n",
       "      <td>301731.0</td>\n",
       "      <td>3709.0</td>\n",
       "      <td>305440.0</td>\n",
       "      <td>91.932712</td>\n",
       "    </tr>\n",
       "    <tr>\n",
       "      <th>2</th>\n",
       "      <td>4662</td>\n",
       "      <td>7949</td>\n",
       "      <td>9324.0</td>\n",
       "      <td>15898.0</td>\n",
       "      <td>25222.0</td>\n",
       "      <td>7.591432</td>\n",
       "    </tr>\n",
       "    <tr>\n",
       "      <th>3</th>\n",
       "      <td>114</td>\n",
       "      <td>348</td>\n",
       "      <td>342.0</td>\n",
       "      <td>1044.0</td>\n",
       "      <td>1386.0</td>\n",
       "      <td>0.417165</td>\n",
       "    </tr>\n",
       "    <tr>\n",
       "      <th>4</th>\n",
       "      <td>6</td>\n",
       "      <td>30</td>\n",
       "      <td>24.0</td>\n",
       "      <td>120.0</td>\n",
       "      <td>144.0</td>\n",
       "      <td>0.043342</td>\n",
       "    </tr>\n",
       "    <tr>\n",
       "      <th>5</th>\n",
       "      <td>3</td>\n",
       "      <td>0</td>\n",
       "      <td>15.0</td>\n",
       "      <td>0.0</td>\n",
       "      <td>15.0</td>\n",
       "      <td>0.004515</td>\n",
       "    </tr>\n",
       "    <tr>\n",
       "      <th>6</th>\n",
       "      <td>0</td>\n",
       "      <td>1</td>\n",
       "      <td>0.0</td>\n",
       "      <td>6.0</td>\n",
       "      <td>6.0</td>\n",
       "      <td>0.001806</td>\n",
       "    </tr>\n",
       "    <tr>\n",
       "      <th>7</th>\n",
       "      <td>1</td>\n",
       "      <td>2</td>\n",
       "      <td>7.0</td>\n",
       "      <td>14.0</td>\n",
       "      <td>21.0</td>\n",
       "      <td>0.006321</td>\n",
       "    </tr>\n",
       "    <tr>\n",
       "      <th>9</th>\n",
       "      <td>1</td>\n",
       "      <td>0</td>\n",
       "      <td>9.0</td>\n",
       "      <td>0.0</td>\n",
       "      <td>9.0</td>\n",
       "      <td>0.002709</td>\n",
       "    </tr>\n",
       "    <tr>\n",
       "      <th>aggregate_totals</th>\n",
       "      <td>n/a</td>\n",
       "      <td>n/a</td>\n",
       "      <td>311452.0</td>\n",
       "      <td>20791.0</td>\n",
       "      <td>332243.0</td>\n",
       "      <td>100.000000</td>\n",
       "    </tr>\n",
       "  </tbody>\n",
       "</table>\n",
       "</div>"
      ],
      "text/plain": [
       "                    num_seasons_old num_seasons_young  total_vacs_old  \\\n",
       "# of excessive vacs                                                     \n",
       "1                            301731              3709        301731.0   \n",
       "2                              4662              7949          9324.0   \n",
       "3                               114               348           342.0   \n",
       "4                                 6                30            24.0   \n",
       "5                                 3                 0            15.0   \n",
       "6                                 0                 1             0.0   \n",
       "7                                 1                 2             7.0   \n",
       "9                                 1                 0             9.0   \n",
       "aggregate_totals                n/a               n/a        311452.0   \n",
       "\n",
       "                     total_vacs_young     total  total_percent  \n",
       "# of excessive vacs                                             \n",
       "1                              3709.0  305440.0      91.932712  \n",
       "2                             15898.0   25222.0       7.591432  \n",
       "3                              1044.0    1386.0       0.417165  \n",
       "4                               120.0     144.0       0.043342  \n",
       "5                                 0.0      15.0       0.004515  \n",
       "6                                 6.0       6.0       0.001806  \n",
       "7                                14.0      21.0       0.006321  \n",
       "9                                 0.0       9.0       0.002709  \n",
       "aggregate_totals              20791.0  332243.0     100.000000  "
      ]
     },
     "execution_count": 36,
     "metadata": {},
     "output_type": "execute_result"
    }
   ],
   "source": [
    "inappropriate_vacs"
   ]
  },
  {
   "cell_type": "code",
   "execution_count": 37,
   "metadata": {
    "collapsed": false
   },
   "outputs": [
    {
     "name": "stdout",
     "output_type": "stream",
     "text": [
      "Number of vacs given to those <= 96m:  2340691\n",
      "Number of vacs given to those > 96m:  10998893\n",
      "Number of inapprorpiate vacs given to <= 96m:  20791.0\n",
      "Number of inapprorpiate vacs given to > 96m:  311452.0\n"
     ]
    }
   ],
   "source": [
    "print(\"Number of vacs given to those <= 96m: \", df_vc_grouped[df_vc_grouped.AGE_IN_MONTHS <= 96]['VACCINE_COUNT'].sum())\n",
    "print(\"Number of vacs given to those > 96m: \", df_vc_grouped[df_vc_grouped.AGE_IN_MONTHS > 96]['VACCINE_COUNT'].sum())\n",
    "print(\"Number of inapprorpiate vacs given to <= 96m: \", inappropriate_vacs.loc['aggregate_totals', 'total_vacs_young'])\n",
    "print(\"Number of inapprorpiate vacs given to > 96m: \", inappropriate_vacs.loc['aggregate_totals', 'total_vacs_old'])"
   ]
  },
  {
   "cell_type": "markdown",
   "metadata": {},
   "source": [
    "### IDs of those who were inappropriately vaccinated"
   ]
  },
  {
   "cell_type": "code",
   "execution_count": 56,
   "metadata": {
    "collapsed": false
   },
   "outputs": [],
   "source": [
    "id_list = []\n",
    "for entry in result_dict[\"inappropriate_vacs_mult_multi_vac_seasons\"]:\n",
    "    id_list.append(entry[0])\n",
    "for entry in result_dict[\"inappropriate_vacs_one_multi_vac_seasons\"]:\n",
    "    id_list.append(entry[0])\n",
    "\n",
    "ids_young = id_list\n",
    "ids_old = df_vc_grouped[(df_vc_grouped.AGE_IN_MONTHS > 96) & (df_vc_grouped.VACCINE_COUNT > 1)].reset_index()['ID'].values.tolist()"
   ]
  },
  {
   "cell_type": "markdown",
   "metadata": {},
   "source": [
    "### Number of clinics those who received inappropriate vacs attended"
   ]
  },
  {
   "cell_type": "code",
   "execution_count": 61,
   "metadata": {
    "collapsed": false
   },
   "outputs": [],
   "source": [
    "df_nunique_orgs = df_vaccine_counts.groupby(['ID', 'flu_season']).agg({\"AGE_IN_MONTHS\" : max, \"VACCINE_COUNT\" : np.sum, \n",
    "                                                                       \"ENTERED_BY_ORG\" : pd.Series.nunique})"
   ]
  },
  {
   "cell_type": "code",
   "execution_count": 85,
   "metadata": {
    "collapsed": false
   },
   "outputs": [
    {
     "data": {
      "text/html": [
       "<div>\n",
       "<table border=\"1\" class=\"dataframe\">\n",
       "  <thead>\n",
       "    <tr style=\"text-align: right;\">\n",
       "      <th></th>\n",
       "      <th>ENTERED_BY_ORG</th>\n",
       "    </tr>\n",
       "    <tr>\n",
       "      <th>num_clinics</th>\n",
       "      <th></th>\n",
       "    </tr>\n",
       "  </thead>\n",
       "  <tbody>\n",
       "    <tr>\n",
       "      <th>1</th>\n",
       "      <td>32816</td>\n",
       "    </tr>\n",
       "    <tr>\n",
       "      <th>2</th>\n",
       "      <td>271344</td>\n",
       "    </tr>\n",
       "    <tr>\n",
       "      <th>3</th>\n",
       "      <td>2337</td>\n",
       "    </tr>\n",
       "    <tr>\n",
       "      <th>4</th>\n",
       "      <td>19</td>\n",
       "    </tr>\n",
       "    <tr>\n",
       "      <th>5</th>\n",
       "      <td>1</td>\n",
       "    </tr>\n",
       "    <tr>\n",
       "      <th>6</th>\n",
       "      <td>1</td>\n",
       "    </tr>\n",
       "  </tbody>\n",
       "</table>\n",
       "</div>"
      ],
      "text/plain": [
       "             ENTERED_BY_ORG\n",
       "num_clinics                \n",
       "1                     32816\n",
       "2                    271344\n",
       "3                      2337\n",
       "4                        19\n",
       "5                         1\n",
       "6                         1"
      ]
     },
     "execution_count": 85,
     "metadata": {},
     "output_type": "execute_result"
    }
   ],
   "source": [
    "old_org_count = df_nunique_orgs[(df_nunique_orgs.VACCINE_COUNT> 1) & (df_nunique_orgs.AGE_IN_MONTHS > 96)]['ENTERED_BY_ORG'].value_counts().to_frame().sort_index()\n",
    "old_org_count.index.rename(\"num_clinics\", inplace=True)\n",
    "old_org_count"
   ]
  },
  {
   "cell_type": "code",
   "execution_count": 86,
   "metadata": {
    "collapsed": false
   },
   "outputs": [
    {
     "data": {
      "text/html": [
       "<div>\n",
       "<table border=\"1\" class=\"dataframe\">\n",
       "  <thead>\n",
       "    <tr style=\"text-align: right;\">\n",
       "      <th></th>\n",
       "      <th>ENTERED_BY_ORG</th>\n",
       "    </tr>\n",
       "    <tr>\n",
       "      <th>num_clinics</th>\n",
       "      <th></th>\n",
       "    </tr>\n",
       "  </thead>\n",
       "  <tbody>\n",
       "    <tr>\n",
       "      <th>1</th>\n",
       "      <td>39710</td>\n",
       "    </tr>\n",
       "    <tr>\n",
       "      <th>2</th>\n",
       "      <td>6423</td>\n",
       "    </tr>\n",
       "    <tr>\n",
       "      <th>3</th>\n",
       "      <td>222</td>\n",
       "    </tr>\n",
       "  </tbody>\n",
       "</table>\n",
       "</div>"
      ],
      "text/plain": [
       "             ENTERED_BY_ORG\n",
       "num_clinics                \n",
       "1                     39710\n",
       "2                      6423\n",
       "3                       222"
      ]
     },
     "execution_count": 86,
     "metadata": {},
     "output_type": "execute_result"
    }
   ],
   "source": [
    "df_young_orgs = df_nunique_orgs.reset_index()\n",
    "young_org_count = df_young_orgs[df_young_orgs.ID.isin(ids_young)]['ENTERED_BY_ORG'].value_counts().to_frame()\n",
    "young_org_count.index.rename(\"num_clinics\", inplace=True)\n",
    "young_org_count"
   ]
  }
 ],
 "metadata": {
  "kernelspec": {
   "display_name": "Python 3",
   "language": "python",
   "name": "python3"
  },
  "language_info": {
   "codemirror_mode": {
    "name": "ipython",
    "version": 3
   },
   "file_extension": ".py",
   "mimetype": "text/x-python",
   "name": "python",
   "nbconvert_exporter": "python",
   "pygments_lexer": "ipython3",
   "version": "3.6.0"
  }
 },
 "nbformat": 4,
 "nbformat_minor": 2
}
